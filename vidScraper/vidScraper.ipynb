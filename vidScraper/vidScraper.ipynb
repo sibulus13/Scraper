{
 "cells": [
  {
   "cell_type": "code",
   "execution_count": 2,
   "metadata": {},
   "outputs": [
    {
     "name": "stdout",
     "output_type": "stream",
     "text": [
      "Z:\\repo\\Scraper\\vidScraper\\playlistLists\\AdvAlgoCMPTSCI224Harvardt.xls\n"
     ]
    }
   ],
   "source": [
    "\n",
    "# importing the module\n",
    "import pytube\n",
    "from pytube import YouTube\n",
    "import pandas as pd\n",
    "\n",
    "# Grab playlist excel sheets\n",
    "# http://www.williamsportwebdeveloper.com/FavBackUp.aspx\n",
    "\n",
    "# where to save\n",
    "SAVE_PATH = r\"Z:\\Videos\\Pytube\"  # to_do\n",
    "\n",
    "# link of the video to be downloaded\n",
    "link = \"https://www.youtube.com/watch?v=rUl9X6CROTA&ab_channel=MITOpenCourseWare\"\n",
    "link = \"https://www.youtube.com/watch?v=YD7QG4G7WVg&ab_channel=MITOpenCourseWare\"\n",
    "fName = 'Lecture 12: Spinal Cord; Autonomic NS'\n",
    "\n",
    "def grab_playlist_links(fPath):\n",
    "    print(fPath)\n",
    "    data = pd.read_html(fPath)\n",
    "    video_URLs = list(data[0][1].loc[2:])\n",
    "    print(video_URLs)\n",
    "    return video_URLs\n",
    "\n",
    "path = r\"Z:\\repo\\Scraper\\vidScraper\\playlistLists\\AdvAlgoCMPTSCI224Harvardt.xls\"\n",
    "data = grab_playlist_links(path)\n"
   ]
  },
  {
   "cell_type": "code",
   "execution_count": 12,
   "metadata": {},
   "outputs": [
    {
     "name": "stdout",
     "output_type": "stream",
     "text": [
      "['https://www.youtube.com/watch?v=0JUN9aDxVmI', 'https://www.youtube.com/watch?v=3_o0-zPRQqw', 'https://www.youtube.com/watch?v=WqBc0ZCU4Uw', 'https://www.youtube.com/watch?v=edOWKZE1t84', 'https://www.youtube.com/watch?v=rLMikQTOVnI', 'https://www.youtube.com/watch?v=gxp_FrgTkQI', 'https://www.youtube.com/watch?v=LbX51mey3vo', 'https://www.youtube.com/watch?v=aHW6HKVC-SY', 'https://www.youtube.com/watch?v=KBVkri8k3Ao', 'https://www.youtube.com/watch?v=Jsg9TwLRTbM', 'https://www.youtube.com/watch?v=vnS9_NKoEKI', 'https://www.youtube.com/watch?v=2Gl-yNso0_0', 'https://www.youtube.com/watch?v=VuM1WnwEMRQ', 'https://www.youtube.com/watch?v=U7158Q-2rJc', 'https://www.youtube.com/watch?v=4A5LiJpPDRw', 'https://www.youtube.com/watch?v=PPCnYiTpbCo', 'https://www.youtube.com/watch?v=kqt1YV9dEoE', 'https://www.youtube.com/watch?v=R9mT5CtdHLg', 'https://www.youtube.com/watch?v=TdTFYVjzs1I', 'https://www.youtube.com/watch?v=rfTt7k6Nv-I', 'https://www.youtube.com/watch?v=HFqO_8Eoc1U', 'https://www.youtube.com/watch?v=nDLe6_sPSfs', 'https://www.youtube.com/watch?v=GAKpnKLnJtc', 'https://www.youtube.com/watch?v=M42rQM0vC4g', 'https://www.youtube.com/watch?v=DpxNW0T8CWg']\n"
     ]
    }
   ],
   "source": []
  }
 ],
 "metadata": {
  "interpreter": {
   "hash": "1a4216f127ecbe6d43a7bd1d497ff9096a3d4fe361c3980d6348bed480da01ee"
  },
  "kernelspec": {
   "display_name": "Python 3.10.4 64-bit",
   "language": "python",
   "name": "python3"
  },
  "language_info": {
   "codemirror_mode": {
    "name": "ipython",
    "version": 3
   },
   "file_extension": ".py",
   "mimetype": "text/x-python",
   "name": "python",
   "nbconvert_exporter": "python",
   "pygments_lexer": "ipython3",
   "version": "3.10.4"
  },
  "orig_nbformat": 4
 },
 "nbformat": 4,
 "nbformat_minor": 2
}
